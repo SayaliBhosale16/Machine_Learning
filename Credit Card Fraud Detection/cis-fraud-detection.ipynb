{
 "cells": [
  {
   "cell_type": "code",
   "execution_count": 1,
   "id": "703b48d7",
   "metadata": {
    "execution": {
     "iopub.execute_input": "2023-04-25T02:28:35.174097Z",
     "iopub.status.busy": "2023-04-25T02:28:35.172931Z",
     "iopub.status.idle": "2023-04-25T02:28:37.160044Z",
     "shell.execute_reply": "2023-04-25T02:28:37.158722Z"
    },
    "id": "da6213d9",
    "papermill": {
     "duration": 2.004341,
     "end_time": "2023-04-25T02:28:37.163212",
     "exception": false,
     "start_time": "2023-04-25T02:28:35.158871",
     "status": "completed"
    },
    "tags": []
   },
   "outputs": [],
   "source": [
    "import random\n",
    "import pickle\n",
    "import numpy as np\n",
    "import pandas as pd\n",
    "import seaborn as sns\n",
    "import matplotlib.pyplot as plt\n",
    "%matplotlib inline\n",
    "from prettytable import PrettyTable\n",
    "import sklearn\n",
    "from sklearn import metrics\n",
    "from sklearn.naive_bayes import GaussianNB\n",
    "from sklearn.linear_model import LogisticRegression\n",
    "from sklearn.tree import DecisionTreeClassifier\n",
    "from sklearn.ensemble import RandomForestClassifier, AdaBoostClassifier\n",
    "from xgboost import XGBClassifier\n",
    "from sklearn.model_selection import TimeSeriesSplit, train_test_split, GridSearchCV\n",
    "from sklearn.preprocessing import LabelEncoder\n",
    "from sklearn.metrics import roc_auc_score\n",
    "from sklearn.calibration import CalibratedClassifierCV\n",
    "import warnings\n",
    "warnings.filterwarnings(\"ignore\")"
   ]
  },
  {
   "cell_type": "code",
   "execution_count": 2,
   "id": "c30974a9",
   "metadata": {
    "execution": {
     "iopub.execute_input": "2023-04-25T02:28:37.188381Z",
     "iopub.status.busy": "2023-04-25T02:28:37.187902Z",
     "iopub.status.idle": "2023-04-25T02:29:43.396197Z",
     "shell.execute_reply": "2023-04-25T02:29:43.395025Z"
    },
    "id": "8bbc073b",
    "papermill": {
     "duration": 66.224878,
     "end_time": "2023-04-25T02:29:43.399487",
     "exception": false,
     "start_time": "2023-04-25T02:28:37.174609",
     "status": "completed"
    },
    "tags": []
   },
   "outputs": [],
   "source": [
    "# Loading the merged train and test dataset\n",
    "\n",
    "train_data_tra = pd.read_csv('/kaggle/input/ieee-fraud-detection/train_transaction.csv')\n",
    "train_data_id = pd.read_csv('/kaggle/input/ieee-fraud-detection/train_identity.csv')\n",
    "test_data_tra = pd.read_csv('/kaggle/input/ieee-fraud-detection/test_transaction.csv')\n",
    "test_data_id = pd.read_csv('/kaggle/input/ieee-fraud-detection/test_identity.csv')"
   ]
  },
  {
   "cell_type": "code",
   "execution_count": 3,
   "id": "63a73ef8",
   "metadata": {
    "execution": {
     "iopub.execute_input": "2023-04-25T02:29:43.425336Z",
     "iopub.status.busy": "2023-04-25T02:29:43.424081Z",
     "iopub.status.idle": "2023-04-25T02:29:43.556577Z",
     "shell.execute_reply": "2023-04-25T02:29:43.555236Z"
    },
    "papermill": {
     "duration": 0.148967,
     "end_time": "2023-04-25T02:29:43.560036",
     "exception": false,
     "start_time": "2023-04-25T02:29:43.411069",
     "status": "completed"
    },
    "tags": []
   },
   "outputs": [
    {
     "data": {
      "text/html": [
       "<div>\n",
       "<style scoped>\n",
       "    .dataframe tbody tr th:only-of-type {\n",
       "        vertical-align: middle;\n",
       "    }\n",
       "\n",
       "    .dataframe tbody tr th {\n",
       "        vertical-align: top;\n",
       "    }\n",
       "\n",
       "    .dataframe thead th {\n",
       "        text-align: right;\n",
       "    }\n",
       "</style>\n",
       "<table border=\"1\" class=\"dataframe\">\n",
       "  <thead>\n",
       "    <tr style=\"text-align: right;\">\n",
       "      <th></th>\n",
       "      <th>TransactionID</th>\n",
       "      <th>id_01</th>\n",
       "      <th>id_02</th>\n",
       "      <th>id_03</th>\n",
       "      <th>id_04</th>\n",
       "      <th>id_05</th>\n",
       "      <th>id_06</th>\n",
       "      <th>id_07</th>\n",
       "      <th>id_08</th>\n",
       "      <th>id_09</th>\n",
       "      <th>...</th>\n",
       "      <th>id_31</th>\n",
       "      <th>id_32</th>\n",
       "      <th>id_33</th>\n",
       "      <th>id_34</th>\n",
       "      <th>id_35</th>\n",
       "      <th>id_36</th>\n",
       "      <th>id_37</th>\n",
       "      <th>id_38</th>\n",
       "      <th>DeviceType</th>\n",
       "      <th>DeviceInfo</th>\n",
       "    </tr>\n",
       "  </thead>\n",
       "  <tbody>\n",
       "    <tr>\n",
       "      <th>0</th>\n",
       "      <td>2987004</td>\n",
       "      <td>0.0</td>\n",
       "      <td>70787.0</td>\n",
       "      <td>NaN</td>\n",
       "      <td>NaN</td>\n",
       "      <td>NaN</td>\n",
       "      <td>NaN</td>\n",
       "      <td>NaN</td>\n",
       "      <td>NaN</td>\n",
       "      <td>NaN</td>\n",
       "      <td>...</td>\n",
       "      <td>samsung browser 6.2</td>\n",
       "      <td>32.0</td>\n",
       "      <td>2220x1080</td>\n",
       "      <td>match_status:2</td>\n",
       "      <td>T</td>\n",
       "      <td>F</td>\n",
       "      <td>T</td>\n",
       "      <td>T</td>\n",
       "      <td>mobile</td>\n",
       "      <td>SAMSUNG SM-G892A Build/NRD90M</td>\n",
       "    </tr>\n",
       "    <tr>\n",
       "      <th>1</th>\n",
       "      <td>2987008</td>\n",
       "      <td>-5.0</td>\n",
       "      <td>98945.0</td>\n",
       "      <td>NaN</td>\n",
       "      <td>NaN</td>\n",
       "      <td>0.0</td>\n",
       "      <td>-5.0</td>\n",
       "      <td>NaN</td>\n",
       "      <td>NaN</td>\n",
       "      <td>NaN</td>\n",
       "      <td>...</td>\n",
       "      <td>mobile safari 11.0</td>\n",
       "      <td>32.0</td>\n",
       "      <td>1334x750</td>\n",
       "      <td>match_status:1</td>\n",
       "      <td>T</td>\n",
       "      <td>F</td>\n",
       "      <td>F</td>\n",
       "      <td>T</td>\n",
       "      <td>mobile</td>\n",
       "      <td>iOS Device</td>\n",
       "    </tr>\n",
       "    <tr>\n",
       "      <th>2</th>\n",
       "      <td>2987010</td>\n",
       "      <td>-5.0</td>\n",
       "      <td>191631.0</td>\n",
       "      <td>0.0</td>\n",
       "      <td>0.0</td>\n",
       "      <td>0.0</td>\n",
       "      <td>0.0</td>\n",
       "      <td>NaN</td>\n",
       "      <td>NaN</td>\n",
       "      <td>0.0</td>\n",
       "      <td>...</td>\n",
       "      <td>chrome 62.0</td>\n",
       "      <td>NaN</td>\n",
       "      <td>NaN</td>\n",
       "      <td>NaN</td>\n",
       "      <td>F</td>\n",
       "      <td>F</td>\n",
       "      <td>T</td>\n",
       "      <td>T</td>\n",
       "      <td>desktop</td>\n",
       "      <td>Windows</td>\n",
       "    </tr>\n",
       "    <tr>\n",
       "      <th>3</th>\n",
       "      <td>2987011</td>\n",
       "      <td>-5.0</td>\n",
       "      <td>221832.0</td>\n",
       "      <td>NaN</td>\n",
       "      <td>NaN</td>\n",
       "      <td>0.0</td>\n",
       "      <td>-6.0</td>\n",
       "      <td>NaN</td>\n",
       "      <td>NaN</td>\n",
       "      <td>NaN</td>\n",
       "      <td>...</td>\n",
       "      <td>chrome 62.0</td>\n",
       "      <td>NaN</td>\n",
       "      <td>NaN</td>\n",
       "      <td>NaN</td>\n",
       "      <td>F</td>\n",
       "      <td>F</td>\n",
       "      <td>T</td>\n",
       "      <td>T</td>\n",
       "      <td>desktop</td>\n",
       "      <td>NaN</td>\n",
       "    </tr>\n",
       "    <tr>\n",
       "      <th>4</th>\n",
       "      <td>2987016</td>\n",
       "      <td>0.0</td>\n",
       "      <td>7460.0</td>\n",
       "      <td>0.0</td>\n",
       "      <td>0.0</td>\n",
       "      <td>1.0</td>\n",
       "      <td>0.0</td>\n",
       "      <td>NaN</td>\n",
       "      <td>NaN</td>\n",
       "      <td>0.0</td>\n",
       "      <td>...</td>\n",
       "      <td>chrome 62.0</td>\n",
       "      <td>24.0</td>\n",
       "      <td>1280x800</td>\n",
       "      <td>match_status:2</td>\n",
       "      <td>T</td>\n",
       "      <td>F</td>\n",
       "      <td>T</td>\n",
       "      <td>T</td>\n",
       "      <td>desktop</td>\n",
       "      <td>MacOS</td>\n",
       "    </tr>\n",
       "    <tr>\n",
       "      <th>...</th>\n",
       "      <td>...</td>\n",
       "      <td>...</td>\n",
       "      <td>...</td>\n",
       "      <td>...</td>\n",
       "      <td>...</td>\n",
       "      <td>...</td>\n",
       "      <td>...</td>\n",
       "      <td>...</td>\n",
       "      <td>...</td>\n",
       "      <td>...</td>\n",
       "      <td>...</td>\n",
       "      <td>...</td>\n",
       "      <td>...</td>\n",
       "      <td>...</td>\n",
       "      <td>...</td>\n",
       "      <td>...</td>\n",
       "      <td>...</td>\n",
       "      <td>...</td>\n",
       "      <td>...</td>\n",
       "      <td>...</td>\n",
       "      <td>...</td>\n",
       "    </tr>\n",
       "    <tr>\n",
       "      <th>144228</th>\n",
       "      <td>3577521</td>\n",
       "      <td>-15.0</td>\n",
       "      <td>145955.0</td>\n",
       "      <td>0.0</td>\n",
       "      <td>0.0</td>\n",
       "      <td>0.0</td>\n",
       "      <td>0.0</td>\n",
       "      <td>NaN</td>\n",
       "      <td>NaN</td>\n",
       "      <td>0.0</td>\n",
       "      <td>...</td>\n",
       "      <td>chrome 66.0 for android</td>\n",
       "      <td>NaN</td>\n",
       "      <td>NaN</td>\n",
       "      <td>NaN</td>\n",
       "      <td>F</td>\n",
       "      <td>F</td>\n",
       "      <td>T</td>\n",
       "      <td>F</td>\n",
       "      <td>mobile</td>\n",
       "      <td>F3111 Build/33.3.A.1.97</td>\n",
       "    </tr>\n",
       "    <tr>\n",
       "      <th>144229</th>\n",
       "      <td>3577526</td>\n",
       "      <td>-5.0</td>\n",
       "      <td>172059.0</td>\n",
       "      <td>NaN</td>\n",
       "      <td>NaN</td>\n",
       "      <td>1.0</td>\n",
       "      <td>-5.0</td>\n",
       "      <td>NaN</td>\n",
       "      <td>NaN</td>\n",
       "      <td>NaN</td>\n",
       "      <td>...</td>\n",
       "      <td>chrome 55.0 for android</td>\n",
       "      <td>32.0</td>\n",
       "      <td>855x480</td>\n",
       "      <td>match_status:2</td>\n",
       "      <td>T</td>\n",
       "      <td>F</td>\n",
       "      <td>T</td>\n",
       "      <td>F</td>\n",
       "      <td>mobile</td>\n",
       "      <td>A574BL Build/NMF26F</td>\n",
       "    </tr>\n",
       "    <tr>\n",
       "      <th>144230</th>\n",
       "      <td>3577529</td>\n",
       "      <td>-20.0</td>\n",
       "      <td>632381.0</td>\n",
       "      <td>NaN</td>\n",
       "      <td>NaN</td>\n",
       "      <td>-1.0</td>\n",
       "      <td>-36.0</td>\n",
       "      <td>NaN</td>\n",
       "      <td>NaN</td>\n",
       "      <td>NaN</td>\n",
       "      <td>...</td>\n",
       "      <td>chrome 65.0 for android</td>\n",
       "      <td>NaN</td>\n",
       "      <td>NaN</td>\n",
       "      <td>NaN</td>\n",
       "      <td>F</td>\n",
       "      <td>F</td>\n",
       "      <td>T</td>\n",
       "      <td>F</td>\n",
       "      <td>mobile</td>\n",
       "      <td>Moto E (4) Plus Build/NMA26.42-152</td>\n",
       "    </tr>\n",
       "    <tr>\n",
       "      <th>144231</th>\n",
       "      <td>3577531</td>\n",
       "      <td>-5.0</td>\n",
       "      <td>55528.0</td>\n",
       "      <td>0.0</td>\n",
       "      <td>0.0</td>\n",
       "      <td>0.0</td>\n",
       "      <td>-7.0</td>\n",
       "      <td>NaN</td>\n",
       "      <td>NaN</td>\n",
       "      <td>0.0</td>\n",
       "      <td>...</td>\n",
       "      <td>chrome 66.0</td>\n",
       "      <td>24.0</td>\n",
       "      <td>2560x1600</td>\n",
       "      <td>match_status:2</td>\n",
       "      <td>T</td>\n",
       "      <td>F</td>\n",
       "      <td>T</td>\n",
       "      <td>F</td>\n",
       "      <td>desktop</td>\n",
       "      <td>MacOS</td>\n",
       "    </tr>\n",
       "    <tr>\n",
       "      <th>144232</th>\n",
       "      <td>3577534</td>\n",
       "      <td>-45.0</td>\n",
       "      <td>339406.0</td>\n",
       "      <td>NaN</td>\n",
       "      <td>NaN</td>\n",
       "      <td>-10.0</td>\n",
       "      <td>-100.0</td>\n",
       "      <td>NaN</td>\n",
       "      <td>NaN</td>\n",
       "      <td>NaN</td>\n",
       "      <td>...</td>\n",
       "      <td>chrome 66.0 for android</td>\n",
       "      <td>NaN</td>\n",
       "      <td>NaN</td>\n",
       "      <td>NaN</td>\n",
       "      <td>F</td>\n",
       "      <td>F</td>\n",
       "      <td>T</td>\n",
       "      <td>F</td>\n",
       "      <td>mobile</td>\n",
       "      <td>RNE-L03 Build/HUAWEIRNE-L03</td>\n",
       "    </tr>\n",
       "  </tbody>\n",
       "</table>\n",
       "<p>144233 rows × 41 columns</p>\n",
       "</div>"
      ],
      "text/plain": [
       "        TransactionID  id_01     id_02  id_03  id_04  id_05  id_06  id_07  \\\n",
       "0             2987004    0.0   70787.0    NaN    NaN    NaN    NaN    NaN   \n",
       "1             2987008   -5.0   98945.0    NaN    NaN    0.0   -5.0    NaN   \n",
       "2             2987010   -5.0  191631.0    0.0    0.0    0.0    0.0    NaN   \n",
       "3             2987011   -5.0  221832.0    NaN    NaN    0.0   -6.0    NaN   \n",
       "4             2987016    0.0    7460.0    0.0    0.0    1.0    0.0    NaN   \n",
       "...               ...    ...       ...    ...    ...    ...    ...    ...   \n",
       "144228        3577521  -15.0  145955.0    0.0    0.0    0.0    0.0    NaN   \n",
       "144229        3577526   -5.0  172059.0    NaN    NaN    1.0   -5.0    NaN   \n",
       "144230        3577529  -20.0  632381.0    NaN    NaN   -1.0  -36.0    NaN   \n",
       "144231        3577531   -5.0   55528.0    0.0    0.0    0.0   -7.0    NaN   \n",
       "144232        3577534  -45.0  339406.0    NaN    NaN  -10.0 -100.0    NaN   \n",
       "\n",
       "        id_08  id_09  ...                    id_31  id_32      id_33  \\\n",
       "0         NaN    NaN  ...      samsung browser 6.2   32.0  2220x1080   \n",
       "1         NaN    NaN  ...       mobile safari 11.0   32.0   1334x750   \n",
       "2         NaN    0.0  ...              chrome 62.0    NaN        NaN   \n",
       "3         NaN    NaN  ...              chrome 62.0    NaN        NaN   \n",
       "4         NaN    0.0  ...              chrome 62.0   24.0   1280x800   \n",
       "...       ...    ...  ...                      ...    ...        ...   \n",
       "144228    NaN    0.0  ...  chrome 66.0 for android    NaN        NaN   \n",
       "144229    NaN    NaN  ...  chrome 55.0 for android   32.0    855x480   \n",
       "144230    NaN    NaN  ...  chrome 65.0 for android    NaN        NaN   \n",
       "144231    NaN    0.0  ...              chrome 66.0   24.0  2560x1600   \n",
       "144232    NaN    NaN  ...  chrome 66.0 for android    NaN        NaN   \n",
       "\n",
       "                 id_34  id_35 id_36 id_37  id_38  DeviceType  \\\n",
       "0       match_status:2      T     F     T      T      mobile   \n",
       "1       match_status:1      T     F     F      T      mobile   \n",
       "2                  NaN      F     F     T      T     desktop   \n",
       "3                  NaN      F     F     T      T     desktop   \n",
       "4       match_status:2      T     F     T      T     desktop   \n",
       "...                ...    ...   ...   ...    ...         ...   \n",
       "144228             NaN      F     F     T      F      mobile   \n",
       "144229  match_status:2      T     F     T      F      mobile   \n",
       "144230             NaN      F     F     T      F      mobile   \n",
       "144231  match_status:2      T     F     T      F     desktop   \n",
       "144232             NaN      F     F     T      F      mobile   \n",
       "\n",
       "                                DeviceInfo  \n",
       "0            SAMSUNG SM-G892A Build/NRD90M  \n",
       "1                               iOS Device  \n",
       "2                                  Windows  \n",
       "3                                      NaN  \n",
       "4                                    MacOS  \n",
       "...                                    ...  \n",
       "144228             F3111 Build/33.3.A.1.97  \n",
       "144229                 A574BL Build/NMF26F  \n",
       "144230  Moto E (4) Plus Build/NMA26.42-152  \n",
       "144231                               MacOS  \n",
       "144232         RNE-L03 Build/HUAWEIRNE-L03  \n",
       "\n",
       "[144233 rows x 41 columns]"
      ]
     },
     "execution_count": 3,
     "metadata": {},
     "output_type": "execute_result"
    }
   ],
   "source": [
    "train_data_id"
   ]
  },
  {
   "cell_type": "code",
   "execution_count": 4,
   "id": "e314165b",
   "metadata": {
    "execution": {
     "iopub.execute_input": "2023-04-25T02:29:43.587289Z",
     "iopub.status.busy": "2023-04-25T02:29:43.586471Z",
     "iopub.status.idle": "2023-04-25T02:29:43.593551Z",
     "shell.execute_reply": "2023-04-25T02:29:43.592267Z"
    },
    "papermill": {
     "duration": 0.025026,
     "end_time": "2023-04-25T02:29:43.596706",
     "exception": false,
     "start_time": "2023-04-25T02:29:43.571680",
     "status": "completed"
    },
    "tags": []
   },
   "outputs": [],
   "source": [
    "test_data_id.columns = test_data_id.columns.str.replace('-', '_')\n",
    "    \n",
    "# test_data.rename(columns={i:}"
   ]
  },
  {
   "cell_type": "code",
   "execution_count": 5,
   "id": "18f71a42",
   "metadata": {
    "execution": {
     "iopub.execute_input": "2023-04-25T02:29:43.622356Z",
     "iopub.status.busy": "2023-04-25T02:29:43.621870Z",
     "iopub.status.idle": "2023-04-25T02:29:43.736300Z",
     "shell.execute_reply": "2023-04-25T02:29:43.734929Z"
    },
    "papermill": {
     "duration": 0.130578,
     "end_time": "2023-04-25T02:29:43.739081",
     "exception": false,
     "start_time": "2023-04-25T02:29:43.608503",
     "status": "completed"
    },
    "tags": []
   },
   "outputs": [
    {
     "data": {
      "text/html": [
       "<div>\n",
       "<style scoped>\n",
       "    .dataframe tbody tr th:only-of-type {\n",
       "        vertical-align: middle;\n",
       "    }\n",
       "\n",
       "    .dataframe tbody tr th {\n",
       "        vertical-align: top;\n",
       "    }\n",
       "\n",
       "    .dataframe thead th {\n",
       "        text-align: right;\n",
       "    }\n",
       "</style>\n",
       "<table border=\"1\" class=\"dataframe\">\n",
       "  <thead>\n",
       "    <tr style=\"text-align: right;\">\n",
       "      <th></th>\n",
       "      <th>TransactionID</th>\n",
       "      <th>id_01</th>\n",
       "      <th>id_02</th>\n",
       "      <th>id_03</th>\n",
       "      <th>id_04</th>\n",
       "      <th>id_05</th>\n",
       "      <th>id_06</th>\n",
       "      <th>id_07</th>\n",
       "      <th>id_08</th>\n",
       "      <th>id_09</th>\n",
       "      <th>...</th>\n",
       "      <th>id_31</th>\n",
       "      <th>id_32</th>\n",
       "      <th>id_33</th>\n",
       "      <th>id_34</th>\n",
       "      <th>id_35</th>\n",
       "      <th>id_36</th>\n",
       "      <th>id_37</th>\n",
       "      <th>id_38</th>\n",
       "      <th>DeviceType</th>\n",
       "      <th>DeviceInfo</th>\n",
       "    </tr>\n",
       "  </thead>\n",
       "  <tbody>\n",
       "    <tr>\n",
       "      <th>0</th>\n",
       "      <td>3663586</td>\n",
       "      <td>-45.0</td>\n",
       "      <td>280290.0</td>\n",
       "      <td>NaN</td>\n",
       "      <td>NaN</td>\n",
       "      <td>0.0</td>\n",
       "      <td>0.0</td>\n",
       "      <td>NaN</td>\n",
       "      <td>NaN</td>\n",
       "      <td>NaN</td>\n",
       "      <td>...</td>\n",
       "      <td>chrome 67.0 for android</td>\n",
       "      <td>NaN</td>\n",
       "      <td>NaN</td>\n",
       "      <td>NaN</td>\n",
       "      <td>F</td>\n",
       "      <td>F</td>\n",
       "      <td>T</td>\n",
       "      <td>F</td>\n",
       "      <td>mobile</td>\n",
       "      <td>MYA-L13 Build/HUAWEIMYA-L13</td>\n",
       "    </tr>\n",
       "    <tr>\n",
       "      <th>1</th>\n",
       "      <td>3663588</td>\n",
       "      <td>0.0</td>\n",
       "      <td>3579.0</td>\n",
       "      <td>0.0</td>\n",
       "      <td>0.0</td>\n",
       "      <td>0.0</td>\n",
       "      <td>0.0</td>\n",
       "      <td>NaN</td>\n",
       "      <td>NaN</td>\n",
       "      <td>0.0</td>\n",
       "      <td>...</td>\n",
       "      <td>chrome 67.0 for android</td>\n",
       "      <td>24.0</td>\n",
       "      <td>1280x720</td>\n",
       "      <td>match_status:2</td>\n",
       "      <td>T</td>\n",
       "      <td>F</td>\n",
       "      <td>T</td>\n",
       "      <td>T</td>\n",
       "      <td>mobile</td>\n",
       "      <td>LGLS676 Build/MXB48T</td>\n",
       "    </tr>\n",
       "    <tr>\n",
       "      <th>2</th>\n",
       "      <td>3663597</td>\n",
       "      <td>-5.0</td>\n",
       "      <td>185210.0</td>\n",
       "      <td>NaN</td>\n",
       "      <td>NaN</td>\n",
       "      <td>1.0</td>\n",
       "      <td>0.0</td>\n",
       "      <td>NaN</td>\n",
       "      <td>NaN</td>\n",
       "      <td>NaN</td>\n",
       "      <td>...</td>\n",
       "      <td>ie 11.0 for tablet</td>\n",
       "      <td>NaN</td>\n",
       "      <td>NaN</td>\n",
       "      <td>NaN</td>\n",
       "      <td>F</td>\n",
       "      <td>T</td>\n",
       "      <td>T</td>\n",
       "      <td>F</td>\n",
       "      <td>desktop</td>\n",
       "      <td>Trident/7.0</td>\n",
       "    </tr>\n",
       "    <tr>\n",
       "      <th>3</th>\n",
       "      <td>3663601</td>\n",
       "      <td>-45.0</td>\n",
       "      <td>252944.0</td>\n",
       "      <td>0.0</td>\n",
       "      <td>0.0</td>\n",
       "      <td>0.0</td>\n",
       "      <td>0.0</td>\n",
       "      <td>NaN</td>\n",
       "      <td>NaN</td>\n",
       "      <td>0.0</td>\n",
       "      <td>...</td>\n",
       "      <td>chrome 67.0 for android</td>\n",
       "      <td>NaN</td>\n",
       "      <td>NaN</td>\n",
       "      <td>NaN</td>\n",
       "      <td>F</td>\n",
       "      <td>F</td>\n",
       "      <td>T</td>\n",
       "      <td>F</td>\n",
       "      <td>mobile</td>\n",
       "      <td>MYA-L13 Build/HUAWEIMYA-L13</td>\n",
       "    </tr>\n",
       "    <tr>\n",
       "      <th>4</th>\n",
       "      <td>3663602</td>\n",
       "      <td>-95.0</td>\n",
       "      <td>328680.0</td>\n",
       "      <td>NaN</td>\n",
       "      <td>NaN</td>\n",
       "      <td>7.0</td>\n",
       "      <td>-33.0</td>\n",
       "      <td>NaN</td>\n",
       "      <td>NaN</td>\n",
       "      <td>NaN</td>\n",
       "      <td>...</td>\n",
       "      <td>chrome 67.0 for android</td>\n",
       "      <td>NaN</td>\n",
       "      <td>NaN</td>\n",
       "      <td>NaN</td>\n",
       "      <td>F</td>\n",
       "      <td>F</td>\n",
       "      <td>T</td>\n",
       "      <td>F</td>\n",
       "      <td>mobile</td>\n",
       "      <td>SM-G9650 Build/R16NW</td>\n",
       "    </tr>\n",
       "    <tr>\n",
       "      <th>...</th>\n",
       "      <td>...</td>\n",
       "      <td>...</td>\n",
       "      <td>...</td>\n",
       "      <td>...</td>\n",
       "      <td>...</td>\n",
       "      <td>...</td>\n",
       "      <td>...</td>\n",
       "      <td>...</td>\n",
       "      <td>...</td>\n",
       "      <td>...</td>\n",
       "      <td>...</td>\n",
       "      <td>...</td>\n",
       "      <td>...</td>\n",
       "      <td>...</td>\n",
       "      <td>...</td>\n",
       "      <td>...</td>\n",
       "      <td>...</td>\n",
       "      <td>...</td>\n",
       "      <td>...</td>\n",
       "      <td>...</td>\n",
       "      <td>...</td>\n",
       "    </tr>\n",
       "    <tr>\n",
       "      <th>141902</th>\n",
       "      <td>4170230</td>\n",
       "      <td>-20.0</td>\n",
       "      <td>473365.0</td>\n",
       "      <td>NaN</td>\n",
       "      <td>NaN</td>\n",
       "      <td>0.0</td>\n",
       "      <td>0.0</td>\n",
       "      <td>NaN</td>\n",
       "      <td>NaN</td>\n",
       "      <td>NaN</td>\n",
       "      <td>...</td>\n",
       "      <td>chrome 71.0 for android</td>\n",
       "      <td>NaN</td>\n",
       "      <td>NaN</td>\n",
       "      <td>NaN</td>\n",
       "      <td>F</td>\n",
       "      <td>F</td>\n",
       "      <td>T</td>\n",
       "      <td>F</td>\n",
       "      <td>mobile</td>\n",
       "      <td>SM-J700M</td>\n",
       "    </tr>\n",
       "    <tr>\n",
       "      <th>141903</th>\n",
       "      <td>4170233</td>\n",
       "      <td>-5.0</td>\n",
       "      <td>489917.0</td>\n",
       "      <td>0.0</td>\n",
       "      <td>0.0</td>\n",
       "      <td>-4.0</td>\n",
       "      <td>-32.0</td>\n",
       "      <td>NaN</td>\n",
       "      <td>NaN</td>\n",
       "      <td>0.0</td>\n",
       "      <td>...</td>\n",
       "      <td>chrome 71.0 for android</td>\n",
       "      <td>NaN</td>\n",
       "      <td>NaN</td>\n",
       "      <td>NaN</td>\n",
       "      <td>F</td>\n",
       "      <td>F</td>\n",
       "      <td>T</td>\n",
       "      <td>F</td>\n",
       "      <td>mobile</td>\n",
       "      <td>SM-J320M</td>\n",
       "    </tr>\n",
       "    <tr>\n",
       "      <th>141904</th>\n",
       "      <td>4170234</td>\n",
       "      <td>-5.0</td>\n",
       "      <td>110081.0</td>\n",
       "      <td>NaN</td>\n",
       "      <td>NaN</td>\n",
       "      <td>22.0</td>\n",
       "      <td>-31.0</td>\n",
       "      <td>NaN</td>\n",
       "      <td>NaN</td>\n",
       "      <td>NaN</td>\n",
       "      <td>...</td>\n",
       "      <td>mobile safari 10.0</td>\n",
       "      <td>32.0</td>\n",
       "      <td>1334x750</td>\n",
       "      <td>match_status:2</td>\n",
       "      <td>T</td>\n",
       "      <td>F</td>\n",
       "      <td>F</td>\n",
       "      <td>T</td>\n",
       "      <td>mobile</td>\n",
       "      <td>iOS Device</td>\n",
       "    </tr>\n",
       "    <tr>\n",
       "      <th>141905</th>\n",
       "      <td>4170236</td>\n",
       "      <td>-45.0</td>\n",
       "      <td>266704.0</td>\n",
       "      <td>NaN</td>\n",
       "      <td>NaN</td>\n",
       "      <td>-3.0</td>\n",
       "      <td>-10.0</td>\n",
       "      <td>NaN</td>\n",
       "      <td>NaN</td>\n",
       "      <td>NaN</td>\n",
       "      <td>...</td>\n",
       "      <td>chrome 43.0 for android</td>\n",
       "      <td>NaN</td>\n",
       "      <td>NaN</td>\n",
       "      <td>NaN</td>\n",
       "      <td>F</td>\n",
       "      <td>F</td>\n",
       "      <td>T</td>\n",
       "      <td>F</td>\n",
       "      <td>mobile</td>\n",
       "      <td>ALE-L23 Build/HuaweiALE-L23</td>\n",
       "    </tr>\n",
       "    <tr>\n",
       "      <th>141906</th>\n",
       "      <td>4170239</td>\n",
       "      <td>-10.0</td>\n",
       "      <td>692090.0</td>\n",
       "      <td>0.0</td>\n",
       "      <td>0.0</td>\n",
       "      <td>0.0</td>\n",
       "      <td>0.0</td>\n",
       "      <td>NaN</td>\n",
       "      <td>NaN</td>\n",
       "      <td>0.0</td>\n",
       "      <td>...</td>\n",
       "      <td>samsung browser 8.2</td>\n",
       "      <td>NaN</td>\n",
       "      <td>NaN</td>\n",
       "      <td>NaN</td>\n",
       "      <td>F</td>\n",
       "      <td>F</td>\n",
       "      <td>T</td>\n",
       "      <td>F</td>\n",
       "      <td>mobile</td>\n",
       "      <td>SAMSUNG</td>\n",
       "    </tr>\n",
       "  </tbody>\n",
       "</table>\n",
       "<p>141907 rows × 41 columns</p>\n",
       "</div>"
      ],
      "text/plain": [
       "        TransactionID  id_01     id_02  id_03  id_04  id_05  id_06  id_07  \\\n",
       "0             3663586  -45.0  280290.0    NaN    NaN    0.0    0.0    NaN   \n",
       "1             3663588    0.0    3579.0    0.0    0.0    0.0    0.0    NaN   \n",
       "2             3663597   -5.0  185210.0    NaN    NaN    1.0    0.0    NaN   \n",
       "3             3663601  -45.0  252944.0    0.0    0.0    0.0    0.0    NaN   \n",
       "4             3663602  -95.0  328680.0    NaN    NaN    7.0  -33.0    NaN   \n",
       "...               ...    ...       ...    ...    ...    ...    ...    ...   \n",
       "141902        4170230  -20.0  473365.0    NaN    NaN    0.0    0.0    NaN   \n",
       "141903        4170233   -5.0  489917.0    0.0    0.0   -4.0  -32.0    NaN   \n",
       "141904        4170234   -5.0  110081.0    NaN    NaN   22.0  -31.0    NaN   \n",
       "141905        4170236  -45.0  266704.0    NaN    NaN   -3.0  -10.0    NaN   \n",
       "141906        4170239  -10.0  692090.0    0.0    0.0    0.0    0.0    NaN   \n",
       "\n",
       "        id_08  id_09  ...                    id_31  id_32     id_33  \\\n",
       "0         NaN    NaN  ...  chrome 67.0 for android    NaN       NaN   \n",
       "1         NaN    0.0  ...  chrome 67.0 for android   24.0  1280x720   \n",
       "2         NaN    NaN  ...       ie 11.0 for tablet    NaN       NaN   \n",
       "3         NaN    0.0  ...  chrome 67.0 for android    NaN       NaN   \n",
       "4         NaN    NaN  ...  chrome 67.0 for android    NaN       NaN   \n",
       "...       ...    ...  ...                      ...    ...       ...   \n",
       "141902    NaN    NaN  ...  chrome 71.0 for android    NaN       NaN   \n",
       "141903    NaN    0.0  ...  chrome 71.0 for android    NaN       NaN   \n",
       "141904    NaN    NaN  ...       mobile safari 10.0   32.0  1334x750   \n",
       "141905    NaN    NaN  ...  chrome 43.0 for android    NaN       NaN   \n",
       "141906    NaN    0.0  ...      samsung browser 8.2    NaN       NaN   \n",
       "\n",
       "                 id_34  id_35 id_36 id_37  id_38  DeviceType  \\\n",
       "0                  NaN      F     F     T      F      mobile   \n",
       "1       match_status:2      T     F     T      T      mobile   \n",
       "2                  NaN      F     T     T      F     desktop   \n",
       "3                  NaN      F     F     T      F      mobile   \n",
       "4                  NaN      F     F     T      F      mobile   \n",
       "...                ...    ...   ...   ...    ...         ...   \n",
       "141902             NaN      F     F     T      F      mobile   \n",
       "141903             NaN      F     F     T      F      mobile   \n",
       "141904  match_status:2      T     F     F      T      mobile   \n",
       "141905             NaN      F     F     T      F      mobile   \n",
       "141906             NaN      F     F     T      F      mobile   \n",
       "\n",
       "                         DeviceInfo  \n",
       "0       MYA-L13 Build/HUAWEIMYA-L13  \n",
       "1              LGLS676 Build/MXB48T  \n",
       "2                       Trident/7.0  \n",
       "3       MYA-L13 Build/HUAWEIMYA-L13  \n",
       "4              SM-G9650 Build/R16NW  \n",
       "...                             ...  \n",
       "141902                     SM-J700M  \n",
       "141903                     SM-J320M  \n",
       "141904                   iOS Device  \n",
       "141905  ALE-L23 Build/HuaweiALE-L23  \n",
       "141906                      SAMSUNG  \n",
       "\n",
       "[141907 rows x 41 columns]"
      ]
     },
     "execution_count": 5,
     "metadata": {},
     "output_type": "execute_result"
    }
   ],
   "source": [
    "test_data_id"
   ]
  },
  {
   "cell_type": "code",
   "execution_count": 6,
   "id": "f049c70c",
   "metadata": {
    "execution": {
     "iopub.execute_input": "2023-04-25T02:29:43.766382Z",
     "iopub.status.busy": "2023-04-25T02:29:43.765047Z",
     "iopub.status.idle": "2023-04-25T02:30:01.239110Z",
     "shell.execute_reply": "2023-04-25T02:30:01.237714Z"
    },
    "papermill": {
     "duration": 17.490932,
     "end_time": "2023-04-25T02:30:01.242298",
     "exception": false,
     "start_time": "2023-04-25T02:29:43.751366",
     "status": "completed"
    },
    "tags": []
   },
   "outputs": [],
   "source": [
    "train_data = pd.merge(train_data_tra, train_data_id, on = 'TransactionID', how = 'outer')\n",
    "test_data = pd.merge(test_data_tra, test_data_id, on = 'TransactionID', how = 'outer')"
   ]
  },
  {
   "cell_type": "code",
   "execution_count": 7,
   "id": "551e8fde",
   "metadata": {
    "execution": {
     "iopub.execute_input": "2023-04-25T02:30:01.268830Z",
     "iopub.status.busy": "2023-04-25T02:30:01.268053Z",
     "iopub.status.idle": "2023-04-25T02:30:01.275427Z",
     "shell.execute_reply": "2023-04-25T02:30:01.273990Z"
    },
    "papermill": {
     "duration": 0.023865,
     "end_time": "2023-04-25T02:30:01.278183",
     "exception": false,
     "start_time": "2023-04-25T02:30:01.254318",
     "status": "completed"
    },
    "tags": []
   },
   "outputs": [
    {
     "name": "stdout",
     "output_type": "stream",
     "text": [
      "(590540, 434)\n",
      "(506691, 433)\n"
     ]
    }
   ],
   "source": [
    "print(train_data.shape)\n",
    "print(test_data.shape)"
   ]
  },
  {
   "cell_type": "code",
   "execution_count": 8,
   "id": "b66b8a21",
   "metadata": {
    "execution": {
     "iopub.execute_input": "2023-04-25T02:30:01.304872Z",
     "iopub.status.busy": "2023-04-25T02:30:01.303988Z",
     "iopub.status.idle": "2023-04-25T02:30:01.312410Z",
     "shell.execute_reply": "2023-04-25T02:30:01.311057Z"
    },
    "executionInfo": {
     "elapsed": 26,
     "status": "ok",
     "timestamp": 1623157910673,
     "user": {
      "displayName": "Priyank Mishra",
      "photoUrl": "",
      "userId": "18008032652400229851"
     },
     "user_tz": -330
    },
    "id": "0480f790",
    "outputId": "952b0383-9933-433d-d17d-5253ddb29d97",
    "papermill": {
     "duration": 0.024478,
     "end_time": "2023-04-25T02:30:01.314768",
     "exception": false,
     "start_time": "2023-04-25T02:30:01.290290",
     "status": "completed"
    },
    "tags": []
   },
   "outputs": [
    {
     "name": "stdout",
     "output_type": "stream",
     "text": [
      "*********************************************\n",
      "\n",
      " Train Data Shape : (590540, 434) \n",
      "\n",
      "\n",
      " Test Data Shape : (506691, 433) \n",
      "\n",
      "*********************************************\n"
     ]
    }
   ],
   "source": [
    "print(\"*\"*45)\n",
    "print(\"\\n Train Data Shape : {} \\n\".format(train_data.shape))\n",
    "print(\"\\n Test Data Shape : {} \\n\".format(test_data.shape))\n",
    "print(\"*\"*45)"
   ]
  },
  {
   "cell_type": "markdown",
   "id": "592b3439",
   "metadata": {
    "id": "eO36Arb_F0_7",
    "papermill": {
     "duration": 0.011763,
     "end_time": "2023-04-25T02:30:01.338749",
     "exception": false,
     "start_time": "2023-04-25T02:30:01.326986",
     "status": "completed"
    },
    "tags": []
   },
   "source": [
    "## Utility Functions\n",
    "<br>"
   ]
  },
  {
   "cell_type": "code",
   "execution_count": 9,
   "id": "9ba1760f",
   "metadata": {
    "execution": {
     "iopub.execute_input": "2023-04-25T02:30:01.365320Z",
     "iopub.status.busy": "2023-04-25T02:30:01.364822Z",
     "iopub.status.idle": "2023-04-25T02:30:01.373985Z",
     "shell.execute_reply": "2023-04-25T02:30:01.372760Z"
    },
    "id": "780a3e54",
    "papermill": {
     "duration": 0.025704,
     "end_time": "2023-04-25T02:30:01.376548",
     "exception": false,
     "start_time": "2023-04-25T02:30:01.350844",
     "status": "completed"
    },
    "tags": []
   },
   "outputs": [],
   "source": [
    "def cat_num_features(df):\n",
    "    \n",
    "    '''\n",
    "        Utility Function to get the names of Categorical Features and \n",
    "        Numerical Features of the given Dataset.\n",
    "    '''\n",
    "    \n",
    "    catf = []\n",
    "    numf = []\n",
    "    \n",
    "    # Given Categorical Features \n",
    "    catf = ['ProductCD', 'card1', 'card2', 'card3', 'card4', 'card5', \\\n",
    "            'card6', 'addr1', 'addr2', 'P_emaildomain', 'R_emaildomain', 'M1', 'M2', \\\n",
    "            'M3', 'M4', 'M5', 'M6', 'M7', 'M8', 'M9', \\\n",
    "            'DeviceType', 'DeviceInfo']\n",
    "    catf+=['id_'+str(i) for i in range(12,39)]\n",
    "\n",
    "\n",
    "    # Updating the Categorical Feature Names List based on the columns present in the dataframe\n",
    "    catf = [feature for feature in catf if feature in df.columns.values]\n",
    "    numf = [feature for feature in df.columns if feature not in catf and not feature == 'isFraud']\n",
    "    \n",
    "    return (catf, numf)  "
   ]
  },
  {
   "cell_type": "code",
   "execution_count": 10,
   "id": "9976e18f",
   "metadata": {
    "execution": {
     "iopub.execute_input": "2023-04-25T02:30:01.402857Z",
     "iopub.status.busy": "2023-04-25T02:30:01.402425Z",
     "iopub.status.idle": "2023-04-25T02:30:01.411065Z",
     "shell.execute_reply": "2023-04-25T02:30:01.409800Z"
    },
    "id": "dc6e1c9b",
    "papermill": {
     "duration": 0.024735,
     "end_time": "2023-04-25T02:30:01.413522",
     "exception": false,
     "start_time": "2023-04-25T02:30:01.388787",
     "status": "completed"
    },
    "tags": []
   },
   "outputs": [],
   "source": [
    "def label_encode(X_train, X_test, catf):\n",
    "  \n",
    "  '''\n",
    "    Utility Function to Encode Categorical Features.\n",
    "  '''\n",
    "\n",
    "  for f in catf:\n",
    "    \n",
    "    X_train[f] = X_train[f].astype(str)\n",
    "    X_test[f] = X_test[f].astype(str)\n",
    "    \n",
    "    le = LabelEncoder()\n",
    "    le.fit(X_train[f])\n",
    "    mapping = dict(zip(le.classes_, le.transform(le.classes_)))\n",
    "    X_train[f] = le.transform(X_train[f])\n",
    "    \n",
    "    # Manually Encoding the CV and Test Dataset so as to avoid error for any category which is not present in train set\n",
    "    \n",
    "    # All the categories which are not present in train datset are encoded as -1\n",
    "    \n",
    "    X_test[f] = [-1 if mapping.get(v, -1)==-1 else mapping[v] for v in X_test[f].values ]\n",
    "\n",
    "  return (X_train, X_test)"
   ]
  },
  {
   "cell_type": "code",
   "execution_count": 11,
   "id": "45511e64",
   "metadata": {
    "execution": {
     "iopub.execute_input": "2023-04-25T02:30:01.440521Z",
     "iopub.status.busy": "2023-04-25T02:30:01.439274Z",
     "iopub.status.idle": "2023-04-25T02:30:01.446971Z",
     "shell.execute_reply": "2023-04-25T02:30:01.445938Z"
    },
    "id": "2e284786",
    "papermill": {
     "duration": 0.02386,
     "end_time": "2023-04-25T02:30:01.449491",
     "exception": false,
     "start_time": "2023-04-25T02:30:01.425631",
     "status": "completed"
    },
    "tags": []
   },
   "outputs": [],
   "source": [
    "def normalize(X_train, X_test):\n",
    "    '''\n",
    "        Utility Function to scale the values of the Train, CV and Test Datasets between 0 and 1.\n",
    "    '''\n",
    "    \n",
    "    for f in X_train.columns:\n",
    "\n",
    "        min_val = X_train[f].min()\n",
    "        max_val = X_train[f].max()\n",
    "        \n",
    "        X_train[f] = (X_train[f]-min_val)/(max_val-min_val)\n",
    "        X_test[f] = (X_test[f]-min_val)/(max_val-min_val)\n",
    "        \n",
    "    return (X_train, X_test)"
   ]
  },
  {
   "cell_type": "code",
   "execution_count": 12,
   "id": "715a4ca9",
   "metadata": {
    "execution": {
     "iopub.execute_input": "2023-04-25T02:30:01.476213Z",
     "iopub.status.busy": "2023-04-25T02:30:01.475332Z",
     "iopub.status.idle": "2023-04-25T02:30:01.482289Z",
     "shell.execute_reply": "2023-04-25T02:30:01.481333Z"
    },
    "id": "bb4acd3e",
    "papermill": {
     "duration": 0.023061,
     "end_time": "2023-04-25T02:30:01.484710",
     "exception": false,
     "start_time": "2023-04-25T02:30:01.461649",
     "status": "completed"
    },
    "tags": []
   },
   "outputs": [],
   "source": [
    "def predict_and_save(prediction, name):\n",
    "    \n",
    "    '''\n",
    "        Utility Function to save the test data predictions locally.\n",
    "    '''\n",
    "\n",
    "    df = pd.DataFrame({'TransactionID':test_ids.reshape(-1), 'isFraud':prediction.reshape(-1)})\n",
    "    df = df.sort_values('TransactionID')\n",
    "    df.to_csv(name, index=False)"
   ]
  },
  {
   "cell_type": "markdown",
   "id": "224cec26",
   "metadata": {
    "id": "9dd59e19",
    "papermill": {
     "duration": 0.011766,
     "end_time": "2023-04-25T02:30:01.508578",
     "exception": false,
     "start_time": "2023-04-25T02:30:01.496812",
     "status": "completed"
    },
    "tags": []
   },
   "source": [
    "## Data Preparation\n",
    "<br>"
   ]
  },
  {
   "cell_type": "markdown",
   "id": "3dad478b",
   "metadata": {
    "id": "rQTzZJCOXX6R",
    "papermill": {
     "duration": 0.012381,
     "end_time": "2023-04-25T02:30:01.533097",
     "exception": false,
     "start_time": "2023-04-25T02:30:01.520716",
     "status": "completed"
    },
    "tags": []
   },
   "source": [
    "### Splitting the Dataset\n",
    "<br>"
   ]
  },
  {
   "cell_type": "code",
   "execution_count": 13,
   "id": "48c48ae4",
   "metadata": {
    "execution": {
     "iopub.execute_input": "2023-04-25T02:30:01.559973Z",
     "iopub.status.busy": "2023-04-25T02:30:01.559095Z",
     "iopub.status.idle": "2023-04-25T02:30:09.324732Z",
     "shell.execute_reply": "2023-04-25T02:30:09.323479Z"
    },
    "id": "e75daf6b",
    "papermill": {
     "duration": 7.782222,
     "end_time": "2023-04-25T02:30:09.327570",
     "exception": false,
     "start_time": "2023-04-25T02:30:01.545348",
     "status": "completed"
    },
    "tags": []
   },
   "outputs": [],
   "source": [
    "X_train = train_data.drop(['isFraud', 'TransactionID'], axis=1)\n",
    "y_train = train_data['isFraud']\n",
    "\n",
    "X_test = test_data.drop(['TransactionID'], axis=1)\n",
    "test_ids = test_data['TransactionID'].values\n",
    "\n",
    "del train_data, test_data"
   ]
  },
  {
   "cell_type": "code",
   "execution_count": 14,
   "id": "56bcdff2",
   "metadata": {
    "execution": {
     "iopub.execute_input": "2023-04-25T02:30:09.355086Z",
     "iopub.status.busy": "2023-04-25T02:30:09.353881Z",
     "iopub.status.idle": "2023-04-25T02:30:09.361999Z",
     "shell.execute_reply": "2023-04-25T02:30:09.360424Z"
    },
    "executionInfo": {
     "elapsed": 7,
     "status": "ok",
     "timestamp": 1623157913990,
     "user": {
      "displayName": "Priyank Mishra",
      "photoUrl": "",
      "userId": "18008032652400229851"
     },
     "user_tz": -330
    },
    "id": "08ddc3d8",
    "outputId": "77144020-0d80-4ba8-f282-71736cbbd21d",
    "papermill": {
     "duration": 0.024685,
     "end_time": "2023-04-25T02:30:09.364580",
     "exception": false,
     "start_time": "2023-04-25T02:30:09.339895",
     "status": "completed"
    },
    "scrolled": true,
    "tags": []
   },
   "outputs": [
    {
     "name": "stdout",
     "output_type": "stream",
     "text": [
      "*********************************************\n",
      "\n",
      " Train Data Shape : (590540, 432) \n",
      "\n",
      "\n",
      " Test Data Shape : (506691, 432) \n",
      "\n",
      "*********************************************\n"
     ]
    }
   ],
   "source": [
    "print(\"*\"*45)\n",
    "print(\"\\n Train Data Shape : {} \\n\".format(X_train.shape))\n",
    "print(\"\\n Test Data Shape : {} \\n\".format(X_test.shape))\n",
    "print(\"*\"*45)"
   ]
  },
  {
   "cell_type": "code",
   "execution_count": 15,
   "id": "2cca8a62",
   "metadata": {
    "execution": {
     "iopub.execute_input": "2023-04-25T02:30:09.391751Z",
     "iopub.status.busy": "2023-04-25T02:30:09.391319Z",
     "iopub.status.idle": "2023-04-25T02:30:09.398542Z",
     "shell.execute_reply": "2023-04-25T02:30:09.397152Z"
    },
    "id": "712e6afc",
    "papermill": {
     "duration": 0.023945,
     "end_time": "2023-04-25T02:30:09.401092",
     "exception": false,
     "start_time": "2023-04-25T02:30:09.377147",
     "status": "completed"
    },
    "tags": []
   },
   "outputs": [],
   "source": [
    "# Storing Categorical and Numerical Feature Names \n",
    "\n",
    "catf, numf = cat_num_features(X_train)\n",
    "categorical_feature_indices = [X_train.columns.get_loc(f) for f in catf]"
   ]
  },
  {
   "cell_type": "code",
   "execution_count": 16,
   "id": "d38ea970",
   "metadata": {
    "execution": {
     "iopub.execute_input": "2023-04-25T02:30:09.429709Z",
     "iopub.status.busy": "2023-04-25T02:30:09.428297Z",
     "iopub.status.idle": "2023-04-25T02:30:09.437716Z",
     "shell.execute_reply": "2023-04-25T02:30:09.436382Z"
    },
    "papermill": {
     "duration": 0.02673,
     "end_time": "2023-04-25T02:30:09.440229",
     "exception": false,
     "start_time": "2023-04-25T02:30:09.413499",
     "status": "completed"
    },
    "tags": []
   },
   "outputs": [
    {
     "data": {
      "text/plain": [
       "Index(['TransactionDT', 'TransactionAmt', 'ProductCD', 'card1', 'card2',\n",
       "       'card3', 'card4', 'card5', 'card6', 'addr1',\n",
       "       ...\n",
       "       'id_31', 'id_32', 'id_33', 'id_34', 'id_35', 'id_36', 'id_37', 'id_38',\n",
       "       'DeviceType', 'DeviceInfo'],\n",
       "      dtype='object', length=432)"
      ]
     },
     "execution_count": 16,
     "metadata": {},
     "output_type": "execute_result"
    }
   ],
   "source": [
    "X_test.columns"
   ]
  },
  {
   "cell_type": "markdown",
   "id": "b6a88ace",
   "metadata": {
    "id": "a50561e7",
    "papermill": {
     "duration": 0.01177,
     "end_time": "2023-04-25T02:30:09.464402",
     "exception": false,
     "start_time": "2023-04-25T02:30:09.452632",
     "status": "completed"
    },
    "tags": []
   },
   "source": [
    "#### Label Encoding Categorical Features\n",
    "<br>\n",
    "We will be creating three sets, one having imputed missing values to be used with models which do not handle missing values on their own and the other whose missing values will be imputed and also it will be scaled between 0 and 1 to be used with models like Naive Bayes and Logisitic Regression and the third which is to be used with model like XgBoost which can handle missing values on its own.\n",
    "<br><br>"
   ]
  },
  {
   "cell_type": "code",
   "execution_count": 17,
   "id": "5053c18c",
   "metadata": {
    "execution": {
     "iopub.execute_input": "2023-04-25T02:30:09.491105Z",
     "iopub.status.busy": "2023-04-25T02:30:09.490619Z",
     "iopub.status.idle": "2023-04-25T02:31:20.511524Z",
     "shell.execute_reply": "2023-04-25T02:31:20.510255Z"
    },
    "id": "3432d35f",
    "papermill": {
     "duration": 71.03813,
     "end_time": "2023-04-25T02:31:20.514806",
     "exception": false,
     "start_time": "2023-04-25T02:30:09.476676",
     "status": "completed"
    },
    "tags": []
   },
   "outputs": [],
   "source": [
    "# Imputing the missing values of Categorical Columns with \"missing\"\n",
    "\n",
    "X_train[catf] = X_train[catf].fillna('missing')\n",
    "X_test[catf] = X_test[catf].fillna('missing')\n",
    "\n",
    "\n",
    "# Label Encoding Categorical Features\n",
    "\n",
    "X_train, X_test = label_encode(X_train, X_test, catf)"
   ]
  },
  {
   "cell_type": "code",
   "execution_count": 18,
   "id": "3ba9cb25",
   "metadata": {
    "execution": {
     "iopub.execute_input": "2023-04-25T02:31:20.542802Z",
     "iopub.status.busy": "2023-04-25T02:31:20.541870Z",
     "iopub.status.idle": "2023-04-25T02:31:39.754568Z",
     "shell.execute_reply": "2023-04-25T02:31:39.753311Z"
    },
    "id": "10320f4d",
    "papermill": {
     "duration": 19.229902,
     "end_time": "2023-04-25T02:31:39.757679",
     "exception": false,
     "start_time": "2023-04-25T02:31:20.527777",
     "status": "completed"
    },
    "tags": []
   },
   "outputs": [],
   "source": [
    "# Set1 (Imputed and Normalized)\n",
    "\n",
    "X_train1 = X_train.fillna(-999)\n",
    "X_test1 = X_test.fillna(-999)\n",
    "X_train1, X_test1 = normalize(X_train1, X_test1)\n",
    "\n",
    "\n",
    "\n",
    "# Set2 (Imputed)\n",
    "\n",
    "X_train2 = X_train.fillna(-999)\n",
    "X_test2 = X_test.fillna(-999)\n",
    "\n",
    "\n",
    "\n",
    "# Set3 (Raw)\n",
    "\n",
    "X_train3 = X_train\n",
    "X_test3 = X_test\n",
    "\n",
    "del X_train, X_test"
   ]
  },
  {
   "cell_type": "code",
   "execution_count": 19,
   "id": "3d15def1",
   "metadata": {
    "execution": {
     "iopub.execute_input": "2023-04-25T02:31:39.785304Z",
     "iopub.status.busy": "2023-04-25T02:31:39.784821Z",
     "iopub.status.idle": "2023-04-25T02:31:39.801497Z",
     "shell.execute_reply": "2023-04-25T02:31:39.799231Z"
    },
    "id": "f5ba53e8",
    "papermill": {
     "duration": 0.034385,
     "end_time": "2023-04-25T02:31:39.805107",
     "exception": false,
     "start_time": "2023-04-25T02:31:39.770722",
     "status": "completed"
    },
    "tags": []
   },
   "outputs": [],
   "source": [
    "train1 = X_train1\n",
    "train1['isFraud'] = y_train\n",
    "\n",
    "test1 = X_test1\n",
    "\n",
    "del X_train1, X_test1\n",
    "\n",
    "\n",
    "\n",
    "train2 = X_train2\n",
    "train2['isFraud'] = y_train\n",
    "\n",
    "test2 = X_test2\n",
    "\n",
    "del X_train2, X_test2\n",
    "\n",
    "\n",
    "\n",
    "train3 = X_train3\n",
    "train3['isFraud'] = y_train\n",
    "\n",
    "test3 = X_test3\n",
    "\n",
    "del X_train3, y_train, X_test3"
   ]
  },
  {
   "cell_type": "code",
   "execution_count": 20,
   "id": "b2559699",
   "metadata": {
    "execution": {
     "iopub.execute_input": "2023-04-25T02:31:39.838775Z",
     "iopub.status.busy": "2023-04-25T02:31:39.837439Z",
     "iopub.status.idle": "2023-04-25T02:31:39.851212Z",
     "shell.execute_reply": "2023-04-25T02:31:39.849333Z"
    },
    "id": "385bc132",
    "papermill": {
     "duration": 0.034287,
     "end_time": "2023-04-25T02:31:39.854696",
     "exception": false,
     "start_time": "2023-04-25T02:31:39.820409",
     "status": "completed"
    },
    "tags": []
   },
   "outputs": [],
   "source": [
    "y_train = train1.pop('isFraud')\n",
    "_ = train2.pop('isFraud')\n",
    "_ = train3.pop('isFraud')\n",
    "\n",
    "\n",
    "X_train1 = train1\n",
    "X_test1 = test1 \n",
    "\n",
    "X_train2 = train2\n",
    "X_test2 = test2 \n",
    "\n",
    "X_train3 = train3\n",
    "X_test3 = test3 \n",
    "\n",
    "del train1, train2, train3"
   ]
  },
  {
   "cell_type": "code",
   "execution_count": 21,
   "id": "f2ca7e88",
   "metadata": {
    "execution": {
     "iopub.execute_input": "2023-04-25T02:31:39.891092Z",
     "iopub.status.busy": "2023-04-25T02:31:39.889967Z",
     "iopub.status.idle": "2023-04-25T02:31:39.899342Z",
     "shell.execute_reply": "2023-04-25T02:31:39.897878Z"
    },
    "executionInfo": {
     "elapsed": 14,
     "status": "ok",
     "timestamp": 1623158006995,
     "user": {
      "displayName": "Priyank Mishra",
      "photoUrl": "",
      "userId": "18008032652400229851"
     },
     "user_tz": -330
    },
    "id": "77b932d2",
    "outputId": "9a4b92b6-ec49-4818-c965-6ac6824c73ba",
    "papermill": {
     "duration": 0.032441,
     "end_time": "2023-04-25T02:31:39.902803",
     "exception": false,
     "start_time": "2023-04-25T02:31:39.870362",
     "status": "completed"
    },
    "tags": []
   },
   "outputs": [
    {
     "name": "stdout",
     "output_type": "stream",
     "text": [
      "************************************************************\n",
      "\n",
      " Train Dataset Set1 Shape : (590540, 432) \n",
      "\n",
      "\n",
      " Test Dataset Set1 Shape : (506691, 432) \n",
      "\n",
      "************************************************************\n",
      "\n",
      " Train Dataset Set1 Shape : (590540, 432) \n",
      "\n",
      "\n",
      " Test Dataset Set2 Shape : (506691, 432) \n",
      "\n",
      "************************************************************\n",
      "\n",
      " Train Dataset Set1 Shape : (590540, 432) \n",
      "\n",
      "\n",
      " Test Dataset Set3 Shape : (506691, 432) \n",
      "\n",
      "************************************************************\n"
     ]
    }
   ],
   "source": [
    "print(\"*\"*60)\n",
    "print(\"\\n Train Dataset Set1 Shape : {} \\n\".format(X_train1.shape))\n",
    "print(\"\\n Test Dataset Set1 Shape : {} \\n\".format(X_test1.shape))\n",
    "print(\"*\"*60)\n",
    "print(\"\\n Train Dataset Set1 Shape : {} \\n\".format(X_train1.shape))\n",
    "print(\"\\n Test Dataset Set2 Shape : {} \\n\".format(X_test2.shape))\n",
    "print(\"*\"*60)\n",
    "print(\"\\n Train Dataset Set1 Shape : {} \\n\".format(X_train1.shape))\n",
    "print(\"\\n Test Dataset Set3 Shape : {} \\n\".format(X_test3.shape))\n",
    "print(\"*\"*60)"
   ]
  },
  {
   "cell_type": "markdown",
   "id": "ff52d993",
   "metadata": {
    "id": "48d2678b",
    "papermill": {
     "duration": 0.012936,
     "end_time": "2023-04-25T02:31:39.928695",
     "exception": false,
     "start_time": "2023-04-25T02:31:39.915759",
     "status": "completed"
    },
    "tags": []
   },
   "source": [
    "## Base Line Models\n",
    "<br>"
   ]
  },
  {
   "cell_type": "markdown",
   "id": "37aa3d1f",
   "metadata": {
    "id": "2ba10ea9",
    "papermill": {
     "duration": 0.012407,
     "end_time": "2023-04-25T02:31:39.954491",
     "exception": false,
     "start_time": "2023-04-25T02:31:39.942084",
     "status": "completed"
    },
    "tags": []
   },
   "source": [
    "<br>\n",
    "\n",
    "### 1. Naive Bayes\n",
    "\n",
    "<br>"
   ]
  },
  {
   "cell_type": "code",
   "execution_count": 22,
   "id": "825b5f64",
   "metadata": {
    "execution": {
     "iopub.execute_input": "2023-04-25T02:31:39.982500Z",
     "iopub.status.busy": "2023-04-25T02:31:39.981127Z",
     "iopub.status.idle": "2023-04-25T02:31:48.464195Z",
     "shell.execute_reply": "2023-04-25T02:31:48.462936Z"
    },
    "id": "bc1eab3f",
    "outputId": "24a57974-e8da-4953-ee3b-a6bf1bb027da",
    "papermill": {
     "duration": 8.499783,
     "end_time": "2023-04-25T02:31:48.466655",
     "exception": false,
     "start_time": "2023-04-25T02:31:39.966872",
     "status": "completed"
    },
    "tags": []
   },
   "outputs": [
    {
     "data": {
      "text/plain": [
       "GaussianNB(priors=[0.5, 0.5])"
      ]
     },
     "execution_count": 22,
     "metadata": {},
     "output_type": "execute_result"
    }
   ],
   "source": [
    "nb = GaussianNB(priors=[0.5,0.5]) \n",
    "nb.fit(X_train1, y_train)"
   ]
  },
  {
   "cell_type": "code",
   "execution_count": 23,
   "id": "7a1cb933",
   "metadata": {
    "execution": {
     "iopub.execute_input": "2023-04-25T02:31:48.493934Z",
     "iopub.status.busy": "2023-04-25T02:31:48.493477Z",
     "iopub.status.idle": "2023-04-25T02:31:55.020684Z",
     "shell.execute_reply": "2023-04-25T02:31:55.019468Z"
    },
    "id": "56f447fe",
    "papermill": {
     "duration": 6.544488,
     "end_time": "2023-04-25T02:31:55.023661",
     "exception": false,
     "start_time": "2023-04-25T02:31:48.479173",
     "status": "completed"
    },
    "tags": []
   },
   "outputs": [],
   "source": [
    "nb_test_proba = nb.predict_proba(X_test1)[:,1]"
   ]
  },
  {
   "cell_type": "code",
   "execution_count": 24,
   "id": "13b0cc12",
   "metadata": {
    "execution": {
     "iopub.execute_input": "2023-04-25T02:31:55.051186Z",
     "iopub.status.busy": "2023-04-25T02:31:55.050143Z",
     "iopub.status.idle": "2023-04-25T02:31:56.364514Z",
     "shell.execute_reply": "2023-04-25T02:31:56.363138Z"
    },
    "id": "d87c5565",
    "papermill": {
     "duration": 1.331333,
     "end_time": "2023-04-25T02:31:56.367558",
     "exception": false,
     "start_time": "2023-04-25T02:31:55.036225",
     "status": "completed"
    },
    "tags": []
   },
   "outputs": [],
   "source": [
    "predict_and_save(nb_test_proba, 'nb_pred_bl.csv')"
   ]
  },
  {
   "cell_type": "markdown",
   "id": "6fc7b7d3",
   "metadata": {
    "id": "773e6871",
    "papermill": {
     "duration": 0.012206,
     "end_time": "2023-04-25T02:31:56.392731",
     "exception": false,
     "start_time": "2023-04-25T02:31:56.380525",
     "status": "completed"
    },
    "tags": []
   },
   "source": [
    "<br>\n",
    "\n",
    "### 2. Logistic Regression\n",
    "\n",
    "<br>"
   ]
  },
  {
   "cell_type": "code",
   "execution_count": 25,
   "id": "17020e2a",
   "metadata": {
    "execution": {
     "iopub.execute_input": "2023-04-25T02:31:56.420961Z",
     "iopub.status.busy": "2023-04-25T02:31:56.420135Z",
     "iopub.status.idle": "2023-04-25T02:33:03.193622Z",
     "shell.execute_reply": "2023-04-25T02:33:03.192012Z"
    },
    "id": "ffe86e7b",
    "outputId": "2581b7b8-8daa-473d-ef00-d5961ac3f4b9",
    "papermill": {
     "duration": 66.801972,
     "end_time": "2023-04-25T02:33:03.207252",
     "exception": false,
     "start_time": "2023-04-25T02:31:56.405280",
     "status": "completed"
    },
    "scrolled": true,
    "tags": []
   },
   "outputs": [
    {
     "data": {
      "text/plain": [
       "LogisticRegression(class_weight='balanced', n_jobs=-1, random_state=3)"
      ]
     },
     "execution_count": 25,
     "metadata": {},
     "output_type": "execute_result"
    }
   ],
   "source": [
    "lr = LogisticRegression(n_jobs = -1, class_weight = 'balanced', random_state = 3) \n",
    "lr.fit(X_train1, y_train)"
   ]
  },
  {
   "cell_type": "code",
   "execution_count": 26,
   "id": "72eeb150",
   "metadata": {
    "execution": {
     "iopub.execute_input": "2023-04-25T02:33:03.237259Z",
     "iopub.status.busy": "2023-04-25T02:33:03.236061Z",
     "iopub.status.idle": "2023-04-25T02:33:03.625362Z",
     "shell.execute_reply": "2023-04-25T02:33:03.623476Z"
    },
    "id": "82b04f35",
    "papermill": {
     "duration": 0.410183,
     "end_time": "2023-04-25T02:33:03.630447",
     "exception": false,
     "start_time": "2023-04-25T02:33:03.220264",
     "status": "completed"
    },
    "tags": []
   },
   "outputs": [],
   "source": [
    "lr_test_proba = lr.predict_proba(X_test1)[:,1]"
   ]
  },
  {
   "cell_type": "code",
   "execution_count": 27,
   "id": "e4b7114e",
   "metadata": {
    "execution": {
     "iopub.execute_input": "2023-04-25T02:33:03.700505Z",
     "iopub.status.busy": "2023-04-25T02:33:03.699681Z",
     "iopub.status.idle": "2023-04-25T02:33:04.929668Z",
     "shell.execute_reply": "2023-04-25T02:33:04.928267Z"
    },
    "id": "8441e4ca",
    "papermill": {
     "duration": 1.268677,
     "end_time": "2023-04-25T02:33:04.932759",
     "exception": false,
     "start_time": "2023-04-25T02:33:03.664082",
     "status": "completed"
    },
    "tags": []
   },
   "outputs": [],
   "source": [
    "predict_and_save(lr_test_proba, 'lr_pred_bl.csv')"
   ]
  },
  {
   "cell_type": "markdown",
   "id": "e6228a78",
   "metadata": {
    "id": "bfec8799",
    "papermill": {
     "duration": 0.012422,
     "end_time": "2023-04-25T02:33:04.958260",
     "exception": false,
     "start_time": "2023-04-25T02:33:04.945838",
     "status": "completed"
    },
    "tags": []
   },
   "source": [
    "<br>\n",
    "\n",
    "### 3. Decision Tree\n",
    "\n",
    "<br>"
   ]
  },
  {
   "cell_type": "code",
   "execution_count": 28,
   "id": "2b93aeab",
   "metadata": {
    "execution": {
     "iopub.execute_input": "2023-04-25T02:33:04.985968Z",
     "iopub.status.busy": "2023-04-25T02:33:04.985545Z",
     "iopub.status.idle": "2023-04-25T02:36:15.841846Z",
     "shell.execute_reply": "2023-04-25T02:36:15.840576Z"
    },
    "id": "efb16011",
    "outputId": "51e48561-7438-4747-90e3-e3534ef385f0",
    "papermill": {
     "duration": 190.885655,
     "end_time": "2023-04-25T02:36:15.856925",
     "exception": false,
     "start_time": "2023-04-25T02:33:04.971270",
     "status": "completed"
    },
    "scrolled": true,
    "tags": []
   },
   "outputs": [
    {
     "data": {
      "text/plain": [
       "DecisionTreeClassifier(class_weight='balanced', random_state=3)"
      ]
     },
     "execution_count": 28,
     "metadata": {},
     "output_type": "execute_result"
    }
   ],
   "source": [
    "dt =  DecisionTreeClassifier(random_state=3, class_weight='balanced')\n",
    "dt.fit(X_train2, y_train)"
   ]
  },
  {
   "cell_type": "code",
   "execution_count": 29,
   "id": "81b9d9a4",
   "metadata": {
    "execution": {
     "iopub.execute_input": "2023-04-25T02:36:15.885737Z",
     "iopub.status.busy": "2023-04-25T02:36:15.885290Z",
     "iopub.status.idle": "2023-04-25T02:36:17.706892Z",
     "shell.execute_reply": "2023-04-25T02:36:17.705513Z"
    },
    "id": "23965755",
    "papermill": {
     "duration": 1.840151,
     "end_time": "2023-04-25T02:36:17.709816",
     "exception": false,
     "start_time": "2023-04-25T02:36:15.869665",
     "status": "completed"
    },
    "tags": []
   },
   "outputs": [],
   "source": [
    "dt_test_proba = dt.predict_proba(X_test2)[:,1]"
   ]
  },
  {
   "cell_type": "code",
   "execution_count": 30,
   "id": "4fc5f0cf",
   "metadata": {
    "execution": {
     "iopub.execute_input": "2023-04-25T02:36:17.738774Z",
     "iopub.status.busy": "2023-04-25T02:36:17.738302Z",
     "iopub.status.idle": "2023-04-25T02:36:18.460435Z",
     "shell.execute_reply": "2023-04-25T02:36:18.459222Z"
    },
    "id": "3yHe8gNOH8Fl",
    "papermill": {
     "duration": 0.739784,
     "end_time": "2023-04-25T02:36:18.463113",
     "exception": false,
     "start_time": "2023-04-25T02:36:17.723329",
     "status": "completed"
    },
    "tags": []
   },
   "outputs": [],
   "source": [
    "predict_and_save(dt_test_proba, 'dt_pred_bl.csv')"
   ]
  },
  {
   "cell_type": "markdown",
   "id": "bdf1e882",
   "metadata": {
    "id": "2ae3eb8c",
    "papermill": {
     "duration": 0.012223,
     "end_time": "2023-04-25T02:36:18.488306",
     "exception": false,
     "start_time": "2023-04-25T02:36:18.476083",
     "status": "completed"
    },
    "tags": []
   },
   "source": [
    "<br>\n",
    "\n",
    "### 4. Random Forest\n",
    "\n",
    "<br>"
   ]
  },
  {
   "cell_type": "code",
   "execution_count": 31,
   "id": "625fffaf",
   "metadata": {
    "execution": {
     "iopub.execute_input": "2023-04-25T02:36:18.515707Z",
     "iopub.status.busy": "2023-04-25T02:36:18.515268Z",
     "iopub.status.idle": "2023-04-25T02:40:09.459657Z",
     "shell.execute_reply": "2023-04-25T02:40:09.458651Z"
    },
    "id": "dc4b60d0",
    "outputId": "0ef5eb03-9917-4a33-ba85-75a4a298f398",
    "papermill": {
     "duration": 230.972586,
     "end_time": "2023-04-25T02:40:09.473458",
     "exception": false,
     "start_time": "2023-04-25T02:36:18.500872",
     "status": "completed"
    },
    "tags": []
   },
   "outputs": [
    {
     "name": "stderr",
     "output_type": "stream",
     "text": [
      "/opt/conda/lib/python3.7/site-packages/sklearn/linear_model/_logistic.py:818: ConvergenceWarning: lbfgs failed to converge (status=1):\n",
      "STOP: TOTAL NO. of ITERATIONS REACHED LIMIT.\n",
      "\n",
      "Increase the number of iterations (max_iter) or scale the data as shown in:\n",
      "    https://scikit-learn.org/stable/modules/preprocessing.html\n",
      "Please also refer to the documentation for alternative solver options:\n",
      "    https://scikit-learn.org/stable/modules/linear_model.html#logistic-regression\n",
      "  extra_warning_msg=_LOGISTIC_SOLVER_CONVERGENCE_MSG,\n"
     ]
    },
    {
     "data": {
      "text/plain": [
       "RandomForestClassifier(class_weight='balanced', n_jobs=-1, random_state=3)"
      ]
     },
     "execution_count": 31,
     "metadata": {},
     "output_type": "execute_result"
    }
   ],
   "source": [
    "rf =  RandomForestClassifier(n_jobs = -1, class_weight = 'balanced', random_state = 3)\n",
    "rf.fit(X_train2, y_train)"
   ]
  },
  {
   "cell_type": "code",
   "execution_count": 32,
   "id": "b03ac490",
   "metadata": {
    "execution": {
     "iopub.execute_input": "2023-04-25T02:40:09.502846Z",
     "iopub.status.busy": "2023-04-25T02:40:09.501416Z",
     "iopub.status.idle": "2023-04-25T02:40:21.329513Z",
     "shell.execute_reply": "2023-04-25T02:40:21.328184Z"
    },
    "id": "ac0cd53a",
    "papermill": {
     "duration": 11.84627,
     "end_time": "2023-04-25T02:40:21.332537",
     "exception": false,
     "start_time": "2023-04-25T02:40:09.486267",
     "status": "completed"
    },
    "tags": []
   },
   "outputs": [],
   "source": [
    "rf_test_proba = rf.predict_proba(X_test2)[:,1]"
   ]
  },
  {
   "cell_type": "code",
   "execution_count": 33,
   "id": "4e36c4d7",
   "metadata": {
    "execution": {
     "iopub.execute_input": "2023-04-25T02:40:21.361157Z",
     "iopub.status.busy": "2023-04-25T02:40:21.360698Z",
     "iopub.status.idle": "2023-04-25T02:40:22.155687Z",
     "shell.execute_reply": "2023-04-25T02:40:22.154491Z"
    },
    "id": "PU_on3-vH8Fn",
    "papermill": {
     "duration": 0.812586,
     "end_time": "2023-04-25T02:40:22.158642",
     "exception": false,
     "start_time": "2023-04-25T02:40:21.346056",
     "status": "completed"
    },
    "tags": []
   },
   "outputs": [],
   "source": [
    "predict_and_save(rf_test_proba, 'rf_pred_bl.csv')"
   ]
  },
  {
   "cell_type": "markdown",
   "id": "546fc4f9",
   "metadata": {
    "id": "56ea2aee",
    "papermill": {
     "duration": 0.012652,
     "end_time": "2023-04-25T02:40:22.184647",
     "exception": false,
     "start_time": "2023-04-25T02:40:22.171995",
     "status": "completed"
    },
    "tags": []
   },
   "source": [
    "<br>\n",
    "\n",
    "### 5. Adaptive Boosting\n",
    "\n",
    "<br>"
   ]
  },
  {
   "cell_type": "code",
   "execution_count": 34,
   "id": "19caf1b9",
   "metadata": {
    "execution": {
     "iopub.execute_input": "2023-04-25T02:40:22.213155Z",
     "iopub.status.busy": "2023-04-25T02:40:22.212350Z",
     "iopub.status.idle": "2023-04-25T02:49:45.502403Z",
     "shell.execute_reply": "2023-04-25T02:49:45.500353Z"
    },
    "id": "2be1c5c7",
    "outputId": "b25c7d0a-91f0-42b1-9b73-0299c745a092",
    "papermill": {
     "duration": 563.326409,
     "end_time": "2023-04-25T02:49:45.523936",
     "exception": false,
     "start_time": "2023-04-25T02:40:22.197527",
     "status": "completed"
    },
    "tags": []
   },
   "outputs": [
    {
     "data": {
      "text/plain": [
       "AdaBoostClassifier(random_state=3)"
      ]
     },
     "execution_count": 34,
     "metadata": {},
     "output_type": "execute_result"
    }
   ],
   "source": [
    "ab =  AdaBoostClassifier(random_state = 3)\n",
    "ab.fit(X_train2, y_train)"
   ]
  },
  {
   "cell_type": "code",
   "execution_count": 35,
   "id": "717dd040",
   "metadata": {
    "execution": {
     "iopub.execute_input": "2023-04-25T02:49:45.552949Z",
     "iopub.status.busy": "2023-04-25T02:49:45.552473Z",
     "iopub.status.idle": "2023-04-25T02:50:26.084382Z",
     "shell.execute_reply": "2023-04-25T02:50:26.083171Z"
    },
    "id": "6046bc34",
    "papermill": {
     "duration": 40.550545,
     "end_time": "2023-04-25T02:50:26.087612",
     "exception": false,
     "start_time": "2023-04-25T02:49:45.537067",
     "status": "completed"
    },
    "tags": []
   },
   "outputs": [],
   "source": [
    "ab_test_proba = ab.predict_proba(X_test2)[:,1]"
   ]
  },
  {
   "cell_type": "code",
   "execution_count": 36,
   "id": "dc164a70",
   "metadata": {
    "execution": {
     "iopub.execute_input": "2023-04-25T02:50:26.116904Z",
     "iopub.status.busy": "2023-04-25T02:50:26.116479Z",
     "iopub.status.idle": "2023-04-25T02:50:27.311979Z",
     "shell.execute_reply": "2023-04-25T02:50:27.310853Z"
    },
    "id": "rGJKo8uoH8Fq",
    "papermill": {
     "duration": 1.21362,
     "end_time": "2023-04-25T02:50:27.314897",
     "exception": false,
     "start_time": "2023-04-25T02:50:26.101277",
     "status": "completed"
    },
    "tags": []
   },
   "outputs": [],
   "source": [
    "predict_and_save(ab_test_proba, 'ab_pred_bl.csv')"
   ]
  },
  {
   "cell_type": "markdown",
   "id": "e412f2af",
   "metadata": {
    "id": "8_pzo2WEGnqf",
    "papermill": {
     "duration": 0.013566,
     "end_time": "2023-04-25T02:50:27.341855",
     "exception": false,
     "start_time": "2023-04-25T02:50:27.328289",
     "status": "completed"
    },
    "tags": []
   },
   "source": [
    "## Conclusion"
   ]
  },
  {
   "cell_type": "markdown",
   "id": "359018c7",
   "metadata": {
    "id": "KhzqLd6tGply",
    "papermill": {
     "duration": 0.012843,
     "end_time": "2023-04-25T02:50:27.368185",
     "exception": false,
     "start_time": "2023-04-25T02:50:27.355342",
     "status": "completed"
    },
    "tags": []
   },
   "source": [
    "From the above results, it is quite clear that the Decision Tree based Ensemble is working best for our problem. Hence, from now on we will be using Tree based Ensemble only and will try to optimize the data and models to get more better score."
   ]
  }
 ],
 "metadata": {
  "kernelspec": {
   "display_name": "Python 3",
   "language": "python",
   "name": "python3"
  },
  "language_info": {
   "codemirror_mode": {
    "name": "ipython",
    "version": 3
   },
   "file_extension": ".py",
   "mimetype": "text/x-python",
   "name": "python",
   "nbconvert_exporter": "python",
   "pygments_lexer": "ipython3",
   "version": "3.7.12"
  },
  "papermill": {
   "default_parameters": {},
   "duration": 1325.957275,
   "end_time": "2023-04-25T02:50:30.111691",
   "environment_variables": {},
   "exception": null,
   "input_path": "__notebook__.ipynb",
   "output_path": "__notebook__.ipynb",
   "parameters": {},
   "start_time": "2023-04-25T02:28:24.154416",
   "version": "2.4.0"
  }
 },
 "nbformat": 4,
 "nbformat_minor": 5
}
